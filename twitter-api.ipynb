{
 "cells": [
  {
   "cell_type": "code",
   "execution_count": 8,
   "metadata": {},
   "outputs": [
    {
     "name": "stdout",
     "output_type": "stream",
     "text": [
      "Collecting descartes\n",
      "  Downloading descartes-1.1.0-py3-none-any.whl (5.8 kB)\n",
      "Requirement already satisfied: matplotlib in /Users/joseph_arber/opt/anaconda3/lib/python3.7/site-packages (from descartes) (3.2.1)\n",
      "Requirement already satisfied: python-dateutil>=2.1 in /Users/joseph_arber/opt/anaconda3/lib/python3.7/site-packages (from matplotlib->descartes) (2.8.0)\n",
      "Requirement already satisfied: cycler>=0.10 in /Users/joseph_arber/opt/anaconda3/lib/python3.7/site-packages (from matplotlib->descartes) (0.10.0)\n",
      "Requirement already satisfied: kiwisolver>=1.0.1 in /Users/joseph_arber/opt/anaconda3/lib/python3.7/site-packages (from matplotlib->descartes) (1.1.0)\n",
      "Requirement already satisfied: numpy>=1.11 in /Users/joseph_arber/opt/anaconda3/lib/python3.7/site-packages (from matplotlib->descartes) (1.17.2)\n",
      "Requirement already satisfied: pyparsing!=2.0.4,!=2.1.2,!=2.1.6,>=2.0.1 in /Users/joseph_arber/opt/anaconda3/lib/python3.7/site-packages (from matplotlib->descartes) (2.4.2)\n",
      "Requirement already satisfied: six>=1.5 in /Users/joseph_arber/opt/anaconda3/lib/python3.7/site-packages (from python-dateutil>=2.1->matplotlib->descartes) (1.12.0)\n",
      "Requirement already satisfied: setuptools in /Users/joseph_arber/opt/anaconda3/lib/python3.7/site-packages (from kiwisolver>=1.0.1->matplotlib->descartes) (41.4.0)\n",
      "Installing collected packages: descartes\n",
      "Successfully installed descartes-1.1.0\n"
     ]
    }
   ],
   "source": [
    "! pip install descartes"
   ]
  },
  {
   "cell_type": "code",
   "execution_count": 9,
   "metadata": {},
   "outputs": [
    {
     "name": "stderr",
     "output_type": "stream",
     "text": [
      "/Users/joseph_arber/opt/anaconda3/lib/python3.7/site-packages/statsmodels/tools/_testing.py:19: FutureWarning: pandas.util.testing is deprecated. Use the functions in the public API at pandas.testing instead.\n",
      "  import pandas.util.testing as tm\n"
     ]
    }
   ],
   "source": [
    "# Load base packages\n",
    "import pandas as pd\n",
    "import numpy as np\n",
    "\n",
    "# Load other key packages\n",
    "import scipy as sp\n",
    "import seaborn as sns\n",
    "import matplotlib.pyplot as plt\n",
    "\n",
    "# Machine learning packages\n",
    "from sklearn.model_selection import train_test_split, cross_val_score\n",
    "from sklearn.linear_model import SGDClassifier\n",
    "from sklearn import metrics\n",
    "from sklearn.metrics import mean_squared_error, mean_absolute_error\n",
    "from sklearn.ensemble import GradientBoostingRegressor, GradientBoostingClassifier\n",
    "\n",
    "# Twitter API\n",
    "from TwitterAPI import TwitterAPI\n",
    "import tweepy\n",
    "from tweepy import OAuthHandler\n",
    "from tweepy import API\n",
    "\n",
    "# Geolocation\n",
    "import geopandas as gpd\n",
    "\n",
    "# Streaming\n",
    "from tweepy.streaming import StreamListener\n",
    "#from slistener import slistener \n",
    "\n",
    "# Other essential packages \n",
    "import sys\n",
    "import time\n",
    "import json\n",
    "import descartes\n",
    "import csv\n",
    "import re\n",
    "import fiona"
   ]
  },
  {
   "cell_type": "code",
   "execution_count": 6,
   "metadata": {},
   "outputs": [],
   "source": [
    "class SListener(StreamListener):\n",
    "    def __init__(self, api = None, fprefix = 'streamer'):\n",
    "        self.api = api or API()\n",
    "        self.counter = 0\n",
    "        self.fprefix = fprefix\n",
    "        self.output  = open('%s_%s.json' % (self.fprefix, time.strftime('%Y%m%d-%H%M%S')), 'w')"
   ]
  },
  {
   "cell_type": "code",
   "execution_count": 7,
   "metadata": {},
   "outputs": [],
   "source": [
    "#authObj = json.loads( open('keys.json', 'r').read() )\n",
    "# Pass API permissions\n",
    "consumer_key = \"rehHagu6gJho85oFtGVQzZpUa\"\n",
    "consumer_secret = \"0ShQ8hJzPwSEOYiu0u1QLLD2jHYzJhzwJnyo2wpKyHrwjDPmBG\"\n",
    "access_token = \"305201900-4XI5uGsLucYjksazjaJO0h3hdvMKcgKe8mM1A968\"\n",
    "access_token_secret = \"gEjlnSo8Tvp1QvuBiHbLW1AClibzrAu4zXR9mQkxfHz3S\""
   ]
  },
  {
   "cell_type": "code",
   "execution_count": 8,
   "metadata": {},
   "outputs": [],
   "source": [
    "# Phase 1:  \n",
    "# Consumer key authentication\n",
    "auth = tweepy.OAuthHandler(consumer_key, consumer_secret)\n",
    "# Access key authentication\n",
    "auth.set_access_token(access_token, access_token_secret)\n",
    "# Set up the API with the authentication handler\n",
    "api  = tweepy.API(auth)"
   ]
  },
  {
   "cell_type": "code",
   "execution_count": null,
   "metadata": {},
   "outputs": [],
   "source": []
  },
  {
   "cell_type": "code",
   "execution_count": null,
   "metadata": {},
   "outputs": [
    {
     "name": "stdout",
     "output_type": "stream",
     "text": [
      "Streaming started...\n"
     ]
    }
   ],
   "source": [
    "# STREAM OPTION 1:\n",
    "## set up words to track\n",
    "track = ['Colston', 'Leopold']\n",
    "\n",
    "listen = SListener(api, 'BLM')\n",
    "stream = tweepy.Stream(auth, listen)\n",
    "\n",
    "print(\"Streaming started...\")\n",
    "\n",
    "stream.filter(track = track)\n"
   ]
  },
  {
   "cell_type": "code",
   "execution_count": null,
   "metadata": {},
   "outputs": [
    {
     "name": "stdout",
     "output_type": "stream",
     "text": [
      "Streaming Activated...\n"
     ]
    }
   ],
   "source": [
    "# STREAM OPTION 2:\n",
    "# Set up words to track\n",
    "keywords_to_track = ['#BLM']\n",
    "# Instantiate the SListener object \n",
    "listen = SListener(api)\n",
    "# Instantiate the Stream object (remove tweepy if code does not run)\n",
    "stream = tweepy.Stream(auth, listen)\n",
    "print(\"Streaming Activated...\")\n",
    "# Begin the collecting data\n",
    "stream.filter(track = keywords_to_track)"
   ]
  },
  {
   "cell_type": "code",
   "execution_count": null,
   "metadata": {},
   "outputs": [],
   "source": []
  }
 ],
 "metadata": {
  "kernelspec": {
   "display_name": "Python 3",
   "language": "python",
   "name": "python3"
  },
  "language_info": {
   "codemirror_mode": {
    "name": "ipython",
    "version": 3
   },
   "file_extension": ".py",
   "mimetype": "text/x-python",
   "name": "python",
   "nbconvert_exporter": "python",
   "pygments_lexer": "ipython3",
   "version": "3.7.4"
  }
 },
 "nbformat": 4,
 "nbformat_minor": 2
}
